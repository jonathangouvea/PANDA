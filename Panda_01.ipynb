{
  "nbformat": 4,
  "nbformat_minor": 0,
  "metadata": {
    "colab": {
      "name": "Panda 01.ipynb",
      "provenance": []
    },
    "kernelspec": {
      "name": "python3",
      "display_name": "Python 3"
    }
  },
  "cells": [
    {
      "cell_type": "markdown",
      "metadata": {
        "id": "CYWH1NLUrx3a",
        "colab_type": "text"
      },
      "source": [
        "# AULA 01 - Introdução à Ciência de Dados e K-NN!\n",
        "\n",
        "Você pode entrar em contato comigo por [github](https://github.com/jonathangouvea), [e-mail](jonathangouveasilva@gmail.com) ou por Telegram @jonathangouvea\n",
        "\n",
        "O **PANDA** é o Grupo de Processamento e Análise de Dados. Estudamos sobre Data Science, e o grupo é feito de alunos para alunos e, além de aulas, vamos contar com competições, discussões e muito mais.\n",
        "\n",
        "Teremos algoritmos de ML explicados, como trabalhar com diferentes conjuntos de dados, construir gráficos explicativos, trabalhar com imagens, redes neurais e mais."
      ]
    },
    {
      "cell_type": "markdown",
      "metadata": {
        "id": "zy2wj42FsnMe",
        "colab_type": "text"
      },
      "source": [
        "## Alguns conceitos importantes\n",
        "\n",
        "### Inteligência Artificial\n",
        "\n",
        "Um conceito muito amplo, que conta com todas as tarefas computacionais que pensávamos que só um ser humano seria capaz de realizar, como jogar xadrez, reconhecer faces de pessoas ou identificar padrões nas compras de um grupo de pessoas.\n",
        "\n",
        "### Aprendizado de Máquina\n",
        "\n",
        "São todos os algoritmos em que uma máquina aprende a partir de exemplos do passado, sem regras explícitas\n",
        "\n",
        "### Deep Learning\n",
        "\n",
        "Abordagem específica de Aprendizado de Máquina, que usa Redes Neurais profundas\n",
        "\n",
        "### Data Science\n",
        "\n",
        "É uma ciência multidisciplinar, que envolve a matemática e estatística, na criação de modelos, a computação, para construir algoritmos eficientes e armazenar dados, e conhecimentos gerais do domínio, com os quais podemos fazer perguntas aos dados e obter respostas relevantes"
      ]
    },
    {
      "cell_type": "markdown",
      "metadata": {
        "id": "R22MSgJ_tdoY",
        "colab_type": "text"
      },
      "source": [
        "## Bibliotecas importantes\n",
        "\n",
        "### Numpy\n",
        "\n",
        "Responsável por diversas operações com vetores e matrizes, como média, covariância ou transposição de matrizes, de forma computacionalmente muito rápida."
      ]
    },
    {
      "cell_type": "code",
      "metadata": {
        "id": "A9TrwUif14dO",
        "colab_type": "code",
        "colab": {}
      },
      "source": [
        "import numpy as np\n",
        "\n"
      ],
      "execution_count": 0,
      "outputs": []
    },
    {
      "cell_type": "markdown",
      "metadata": {
        "id": "4SYBvGBKtqZ4",
        "colab_type": "text"
      },
      "source": [
        "### Scikit-Learn\n",
        "\n",
        "Nossa principal biblioteca, contém algoritmos de Machine Learning e muitas funções úteis. Aqui estamos carregando a parte responsável por conter algumas bases de dados"
      ]
    },
    {
      "cell_type": "code",
      "metadata": {
        "id": "Ac8xQ0lH9rlL",
        "colab_type": "code",
        "colab": {}
      },
      "source": [
        "from sklearn import datasets"
      ],
      "execution_count": 0,
      "outputs": []
    },
    {
      "cell_type": "markdown",
      "metadata": {
        "id": "9thsBf-ct11t",
        "colab_type": "text"
      },
      "source": [
        "### Matplotlib\n",
        "\n",
        "Biblioteca para desenhar gráficos na tela. A segunda linha faz com que esses gráficos fiquem aqui no Colab, e não em outra tela."
      ]
    },
    {
      "cell_type": "code",
      "metadata": {
        "id": "YF2py0JG-woE",
        "colab_type": "code",
        "colab": {}
      },
      "source": [
        "import matplotlib.pyplot as plt\n",
        "%matplotlib inline"
      ],
      "execution_count": 0,
      "outputs": []
    },
    {
      "cell_type": "markdown",
      "metadata": {
        "id": "HScTXgR1uEd6",
        "colab_type": "text"
      },
      "source": [
        "## Exploração dos dados\n",
        "\n",
        "Nós usaremos uma base de dados de vinhos! Ela vem do Scikit-Learn e ela pode ser carregado com *load_wine*\n",
        "\n",
        "Em seguida nós damos uma olhada nessa base.\n",
        "\n"
      ]
    },
    {
      "cell_type": "code",
      "metadata": {
        "id": "KyWnM6jNALKa",
        "colab_type": "code",
        "outputId": "ef44f9ac-7aeb-4693-9beb-eded1436e85d",
        "colab": {
          "base_uri": "https://localhost:8080/",
          "height": 680
        }
      },
      "source": [
        "VINHOS = datasets.load_wine()\n",
        "VINHOS"
      ],
      "execution_count": 0,
      "outputs": [
        {
          "output_type": "execute_result",
          "data": {
            "text/plain": [
              "{'DESCR': '.. _wine_dataset:\\n\\nWine recognition dataset\\n------------------------\\n\\n**Data Set Characteristics:**\\n\\n    :Number of Instances: 178 (50 in each of three classes)\\n    :Number of Attributes: 13 numeric, predictive attributes and the class\\n    :Attribute Information:\\n \\t\\t- Alcohol\\n \\t\\t- Malic acid\\n \\t\\t- Ash\\n\\t\\t- Alcalinity of ash  \\n \\t\\t- Magnesium\\n\\t\\t- Total phenols\\n \\t\\t- Flavanoids\\n \\t\\t- Nonflavanoid phenols\\n \\t\\t- Proanthocyanins\\n\\t\\t- Color intensity\\n \\t\\t- Hue\\n \\t\\t- OD280/OD315 of diluted wines\\n \\t\\t- Proline\\n\\n    - class:\\n            - class_0\\n            - class_1\\n            - class_2\\n\\t\\t\\n    :Summary Statistics:\\n    \\n    ============================= ==== ===== ======= =====\\n                                   Min   Max   Mean     SD\\n    ============================= ==== ===== ======= =====\\n    Alcohol:                      11.0  14.8    13.0   0.8\\n    Malic Acid:                   0.74  5.80    2.34  1.12\\n    Ash:                          1.36  3.23    2.36  0.27\\n    Alcalinity of Ash:            10.6  30.0    19.5   3.3\\n    Magnesium:                    70.0 162.0    99.7  14.3\\n    Total Phenols:                0.98  3.88    2.29  0.63\\n    Flavanoids:                   0.34  5.08    2.03  1.00\\n    Nonflavanoid Phenols:         0.13  0.66    0.36  0.12\\n    Proanthocyanins:              0.41  3.58    1.59  0.57\\n    Colour Intensity:              1.3  13.0     5.1   2.3\\n    Hue:                          0.48  1.71    0.96  0.23\\n    OD280/OD315 of diluted wines: 1.27  4.00    2.61  0.71\\n    Proline:                       278  1680     746   315\\n    ============================= ==== ===== ======= =====\\n\\n    :Missing Attribute Values: None\\n    :Class Distribution: class_0 (59), class_1 (71), class_2 (48)\\n    :Creator: R.A. Fisher\\n    :Donor: Michael Marshall (MARSHALL%PLU@io.arc.nasa.gov)\\n    :Date: July, 1988\\n\\nThis is a copy of UCI ML Wine recognition datasets.\\nhttps://archive.ics.uci.edu/ml/machine-learning-databases/wine/wine.data\\n\\nThe data is the results of a chemical analysis of wines grown in the same\\nregion in Italy by three different cultivators. There are thirteen different\\nmeasurements taken for different constituents found in the three types of\\nwine.\\n\\nOriginal Owners: \\n\\nForina, M. et al, PARVUS - \\nAn Extendible Package for Data Exploration, Classification and Correlation. \\nInstitute of Pharmaceutical and Food Analysis and Technologies,\\nVia Brigata Salerno, 16147 Genoa, Italy.\\n\\nCitation:\\n\\nLichman, M. (2013). UCI Machine Learning Repository\\n[https://archive.ics.uci.edu/ml]. Irvine, CA: University of California,\\nSchool of Information and Computer Science. \\n\\n.. topic:: References\\n\\n  (1) S. Aeberhard, D. Coomans and O. de Vel, \\n  Comparison of Classifiers in High Dimensional Settings, \\n  Tech. Rep. no. 92-02, (1992), Dept. of Computer Science and Dept. of  \\n  Mathematics and Statistics, James Cook University of North Queensland. \\n  (Also submitted to Technometrics). \\n\\n  The data was used with many others for comparing various \\n  classifiers. The classes are separable, though only RDA \\n  has achieved 100% correct classification. \\n  (RDA : 100%, QDA 99.4%, LDA 98.9%, 1NN 96.1% (z-transformed data)) \\n  (All results using the leave-one-out technique) \\n\\n  (2) S. Aeberhard, D. Coomans and O. de Vel, \\n  \"THE CLASSIFICATION PERFORMANCE OF RDA\" \\n  Tech. Rep. no. 92-01, (1992), Dept. of Computer Science and Dept. of \\n  Mathematics and Statistics, James Cook University of North Queensland. \\n  (Also submitted to Journal of Chemometrics).\\n',\n",
              " 'data': array([[1.423e+01, 1.710e+00, 2.430e+00, ..., 1.040e+00, 3.920e+00,\n",
              "         1.065e+03],\n",
              "        [1.320e+01, 1.780e+00, 2.140e+00, ..., 1.050e+00, 3.400e+00,\n",
              "         1.050e+03],\n",
              "        [1.316e+01, 2.360e+00, 2.670e+00, ..., 1.030e+00, 3.170e+00,\n",
              "         1.185e+03],\n",
              "        ...,\n",
              "        [1.327e+01, 4.280e+00, 2.260e+00, ..., 5.900e-01, 1.560e+00,\n",
              "         8.350e+02],\n",
              "        [1.317e+01, 2.590e+00, 2.370e+00, ..., 6.000e-01, 1.620e+00,\n",
              "         8.400e+02],\n",
              "        [1.413e+01, 4.100e+00, 2.740e+00, ..., 6.100e-01, 1.600e+00,\n",
              "         5.600e+02]]),\n",
              " 'feature_names': ['alcohol',\n",
              "  'malic_acid',\n",
              "  'ash',\n",
              "  'alcalinity_of_ash',\n",
              "  'magnesium',\n",
              "  'total_phenols',\n",
              "  'flavanoids',\n",
              "  'nonflavanoid_phenols',\n",
              "  'proanthocyanins',\n",
              "  'color_intensity',\n",
              "  'hue',\n",
              "  'od280/od315_of_diluted_wines',\n",
              "  'proline'],\n",
              " 'target': array([0, 0, 0, 0, 0, 0, 0, 0, 0, 0, 0, 0, 0, 0, 0, 0, 0, 0, 0, 0, 0, 0,\n",
              "        0, 0, 0, 0, 0, 0, 0, 0, 0, 0, 0, 0, 0, 0, 0, 0, 0, 0, 0, 0, 0, 0,\n",
              "        0, 0, 0, 0, 0, 0, 0, 0, 0, 0, 0, 0, 0, 0, 0, 1, 1, 1, 1, 1, 1, 1,\n",
              "        1, 1, 1, 1, 1, 1, 1, 1, 1, 1, 1, 1, 1, 1, 1, 1, 1, 1, 1, 1, 1, 1,\n",
              "        1, 1, 1, 1, 1, 1, 1, 1, 1, 1, 1, 1, 1, 1, 1, 1, 1, 1, 1, 1, 1, 1,\n",
              "        1, 1, 1, 1, 1, 1, 1, 1, 1, 1, 1, 1, 1, 1, 1, 1, 1, 1, 1, 1, 2, 2,\n",
              "        2, 2, 2, 2, 2, 2, 2, 2, 2, 2, 2, 2, 2, 2, 2, 2, 2, 2, 2, 2, 2, 2,\n",
              "        2, 2, 2, 2, 2, 2, 2, 2, 2, 2, 2, 2, 2, 2, 2, 2, 2, 2, 2, 2, 2, 2,\n",
              "        2, 2]),\n",
              " 'target_names': array(['class_0', 'class_1', 'class_2'], dtype='<U7')}"
            ]
          },
          "metadata": {
            "tags": []
          },
          "execution_count": 5
        }
      ]
    },
    {
      "cell_type": "markdown",
      "metadata": {
        "id": "Azf0U5LsuWLh",
        "colab_type": "text"
      },
      "source": [
        "A descrição dos dados diz muito sobre essa base! Sabemos que temos 178 amostras, com 13 atributos e temos a informação sobre todos esses.\n",
        "\n",
        "Temos 3 classes, o que significa que temos três tipos de vinhos diferentes. Também observamos informações sobre o mínimo, máximo, média e desvio padrão dos dados."
      ]
    },
    {
      "cell_type": "code",
      "metadata": {
        "id": "H0bB3rn0Aq_n",
        "colab_type": "code",
        "outputId": "f73e8d21-360a-4caf-b155-47c6b0570c6b",
        "colab": {
          "base_uri": "https://localhost:8080/",
          "height": 1000
        }
      },
      "source": [
        "print(VINHOS.DESCR)"
      ],
      "execution_count": 0,
      "outputs": [
        {
          "output_type": "stream",
          "text": [
            ".. _wine_dataset:\n",
            "\n",
            "Wine recognition dataset\n",
            "------------------------\n",
            "\n",
            "**Data Set Characteristics:**\n",
            "\n",
            "    :Number of Instances: 178 (50 in each of three classes)\n",
            "    :Number of Attributes: 13 numeric, predictive attributes and the class\n",
            "    :Attribute Information:\n",
            " \t\t- Alcohol\n",
            " \t\t- Malic acid\n",
            " \t\t- Ash\n",
            "\t\t- Alcalinity of ash  \n",
            " \t\t- Magnesium\n",
            "\t\t- Total phenols\n",
            " \t\t- Flavanoids\n",
            " \t\t- Nonflavanoid phenols\n",
            " \t\t- Proanthocyanins\n",
            "\t\t- Color intensity\n",
            " \t\t- Hue\n",
            " \t\t- OD280/OD315 of diluted wines\n",
            " \t\t- Proline\n",
            "\n",
            "    - class:\n",
            "            - class_0\n",
            "            - class_1\n",
            "            - class_2\n",
            "\t\t\n",
            "    :Summary Statistics:\n",
            "    \n",
            "    ============================= ==== ===== ======= =====\n",
            "                                   Min   Max   Mean     SD\n",
            "    ============================= ==== ===== ======= =====\n",
            "    Alcohol:                      11.0  14.8    13.0   0.8\n",
            "    Malic Acid:                   0.74  5.80    2.34  1.12\n",
            "    Ash:                          1.36  3.23    2.36  0.27\n",
            "    Alcalinity of Ash:            10.6  30.0    19.5   3.3\n",
            "    Magnesium:                    70.0 162.0    99.7  14.3\n",
            "    Total Phenols:                0.98  3.88    2.29  0.63\n",
            "    Flavanoids:                   0.34  5.08    2.03  1.00\n",
            "    Nonflavanoid Phenols:         0.13  0.66    0.36  0.12\n",
            "    Proanthocyanins:              0.41  3.58    1.59  0.57\n",
            "    Colour Intensity:              1.3  13.0     5.1   2.3\n",
            "    Hue:                          0.48  1.71    0.96  0.23\n",
            "    OD280/OD315 of diluted wines: 1.27  4.00    2.61  0.71\n",
            "    Proline:                       278  1680     746   315\n",
            "    ============================= ==== ===== ======= =====\n",
            "\n",
            "    :Missing Attribute Values: None\n",
            "    :Class Distribution: class_0 (59), class_1 (71), class_2 (48)\n",
            "    :Creator: R.A. Fisher\n",
            "    :Donor: Michael Marshall (MARSHALL%PLU@io.arc.nasa.gov)\n",
            "    :Date: July, 1988\n",
            "\n",
            "This is a copy of UCI ML Wine recognition datasets.\n",
            "https://archive.ics.uci.edu/ml/machine-learning-databases/wine/wine.data\n",
            "\n",
            "The data is the results of a chemical analysis of wines grown in the same\n",
            "region in Italy by three different cultivators. There are thirteen different\n",
            "measurements taken for different constituents found in the three types of\n",
            "wine.\n",
            "\n",
            "Original Owners: \n",
            "\n",
            "Forina, M. et al, PARVUS - \n",
            "An Extendible Package for Data Exploration, Classification and Correlation. \n",
            "Institute of Pharmaceutical and Food Analysis and Technologies,\n",
            "Via Brigata Salerno, 16147 Genoa, Italy.\n",
            "\n",
            "Citation:\n",
            "\n",
            "Lichman, M. (2013). UCI Machine Learning Repository\n",
            "[https://archive.ics.uci.edu/ml]. Irvine, CA: University of California,\n",
            "School of Information and Computer Science. \n",
            "\n",
            ".. topic:: References\n",
            "\n",
            "  (1) S. Aeberhard, D. Coomans and O. de Vel, \n",
            "  Comparison of Classifiers in High Dimensional Settings, \n",
            "  Tech. Rep. no. 92-02, (1992), Dept. of Computer Science and Dept. of  \n",
            "  Mathematics and Statistics, James Cook University of North Queensland. \n",
            "  (Also submitted to Technometrics). \n",
            "\n",
            "  The data was used with many others for comparing various \n",
            "  classifiers. The classes are separable, though only RDA \n",
            "  has achieved 100% correct classification. \n",
            "  (RDA : 100%, QDA 99.4%, LDA 98.9%, 1NN 96.1% (z-transformed data)) \n",
            "  (All results using the leave-one-out technique) \n",
            "\n",
            "  (2) S. Aeberhard, D. Coomans and O. de Vel, \n",
            "  \"THE CLASSIFICATION PERFORMANCE OF RDA\" \n",
            "  Tech. Rep. no. 92-01, (1992), Dept. of Computer Science and Dept. of \n",
            "  Mathematics and Statistics, James Cook University of North Queensland. \n",
            "  (Also submitted to Journal of Chemometrics).\n",
            "\n"
          ],
          "name": "stdout"
        }
      ]
    },
    {
      "cell_type": "markdown",
      "metadata": {
        "id": "LWIEpr_2uqB3",
        "colab_type": "text"
      },
      "source": [
        "Aqui temos os atributos dos vinhos, os guardamos nessa variável para ficarem de fácil acesso."
      ]
    },
    {
      "cell_type": "code",
      "metadata": {
        "id": "oSdY63DRBI77",
        "colab_type": "code",
        "outputId": "bffb32fa-7a22-4005-e56b-92c440d1c2c0",
        "colab": {
          "base_uri": "https://localhost:8080/",
          "height": 243
        }
      },
      "source": [
        "nome_atributos = VINHOS.feature_names\n",
        "nome_atributos"
      ],
      "execution_count": 0,
      "outputs": [
        {
          "output_type": "execute_result",
          "data": {
            "text/plain": [
              "['alcohol',\n",
              " 'malic_acid',\n",
              " 'ash',\n",
              " 'alcalinity_of_ash',\n",
              " 'magnesium',\n",
              " 'total_phenols',\n",
              " 'flavanoids',\n",
              " 'nonflavanoid_phenols',\n",
              " 'proanthocyanins',\n",
              " 'color_intensity',\n",
              " 'hue',\n",
              " 'od280/od315_of_diluted_wines',\n",
              " 'proline']"
            ]
          },
          "metadata": {
            "tags": []
          },
          "execution_count": 7
        }
      ]
    },
    {
      "cell_type": "markdown",
      "metadata": {
        "id": "LybgYxSXuw7G",
        "colab_type": "text"
      },
      "source": [
        "Aqui dividimos em X os dados dos atributos e em y as informações das classes e desenhamos um simples histograma sobre as informações dos vinhos."
      ]
    },
    {
      "cell_type": "code",
      "metadata": {
        "id": "3u_A7rNHBxa0",
        "colab_type": "code",
        "colab": {}
      },
      "source": [
        "X = VINHOS.data\n",
        "y = VINHOS.target"
      ],
      "execution_count": 0,
      "outputs": []
    },
    {
      "cell_type": "code",
      "metadata": {
        "id": "FClfZ_XSB6M_",
        "colab_type": "code",
        "outputId": "6293de80-6bda-4d30-98bd-42b83564688a",
        "colab": {
          "base_uri": "https://localhost:8080/",
          "height": 317
        }
      },
      "source": [
        "plt.hist(y)"
      ],
      "execution_count": 0,
      "outputs": [
        {
          "output_type": "execute_result",
          "data": {
            "text/plain": [
              "(array([59.,  0.,  0.,  0.,  0., 71.,  0.,  0.,  0., 48.]),\n",
              " array([0. , 0.2, 0.4, 0.6, 0.8, 1. , 1.2, 1.4, 1.6, 1.8, 2. ]),\n",
              " <a list of 10 Patch objects>)"
            ]
          },
          "metadata": {
            "tags": []
          },
          "execution_count": 16
        },
        {
          "output_type": "display_data",
          "data": {
            "image/png": "[encoded data removed]",
            "text/plain": [
              "<Figure size 432x288 with 1 Axes>"
            ]
          },
          "metadata": {
            "tags": []
          }
        }
      ]
    },
    {
      "cell_type": "markdown",
      "metadata": {
        "id": "le3rSJo1u7vL",
        "colab_type": "text"
      },
      "source": [
        "### Análise gráfica\n",
        "\n",
        "Agora nós fazemos um gráfico de pontos comparando o Teor alcólico e a Intensidade de cor dos vinhos. Nós separamos as cores de acordo com a classe dos vinhos e usamos marcadores pequenos."
      ]
    },
    {
      "cell_type": "code",
      "metadata": {
        "id": "KpCfs8h2DjO7",
        "colab_type": "code",
        "outputId": "d32eead9-d178-4194-ff0e-3f3f751baee7",
        "colab": {
          "base_uri": "https://localhost:8080/",
          "height": 312
        }
      },
      "source": [
        "plt.scatter(X[:, 0], X[:, 10], c=y, cmap=\"viridis\", marker='.')\n",
        "plt.title(\"Análise de alcool e intensidade de cor\")\n",
        "plt.xlabel(\"Teor alcólico\")\n",
        "plt.ylabel(\"Intensidade de cor\")"
      ],
      "execution_count": 0,
      "outputs": [
        {
          "output_type": "execute_result",
          "data": {
            "text/plain": [
              "Text(0, 0.5, 'Intensidade de cor')"
            ]
          },
          "metadata": {
            "tags": []
          },
          "execution_count": 27
        },
        {
          "output_type": "display_data",
          "data": {
            "image/png": "[encoded data removed]",
            "text/plain": [
              "<Figure size 432x288 with 1 Axes>"
            ]
          },
          "metadata": {
            "tags": []
          }
        }
      ]
    },
    {
      "cell_type": "markdown",
      "metadata": {
        "id": "3Ed2AfI9vIqE",
        "colab_type": "text"
      },
      "source": [
        "Em seguida temos uma análise de covariância, em que um valor alto indicado atributos diretamente proporcionais, uma valor muito negativo indiretamente proporcionais enquanto um valor próximo de zero indica falta de correlação."
      ]
    },
    {
      "cell_type": "code",
      "metadata": {
        "id": "AteioWwfGa3w",
        "colab_type": "code",
        "outputId": "a33fab68-c3e7-4aae-c576-425a80fd9b85",
        "colab": {
          "base_uri": "https://localhost:8080/",
          "height": 292
        }
      },
      "source": [
        "X_corr = np.cov(X.T)\n",
        "\n",
        "plt.matshow(X_corr, vmin = -5, vmax = 5,cmap=\"RdBu\")"
      ],
      "execution_count": 0,
      "outputs": [
        {
          "output_type": "execute_result",
          "data": {
            "text/plain": [
              "<matplotlib.image.AxesImage at 0x7efe7edbae80>"
            ]
          },
          "metadata": {
            "tags": []
          },
          "execution_count": 31
        },
        {
          "output_type": "display_data",
          "data": {
            "image/png": "[encoded data removed]",
            "text/plain": [
              "<Figure size 288x288 with 1 Axes>"
            ]
          },
          "metadata": {
            "tags": []
          }
        }
      ]
    },
    {
      "cell_type": "markdown",
      "metadata": {
        "id": "PWM9kGcdvZGA",
        "colab_type": "text"
      },
      "source": [
        "## K-Nearest Neighbours\n",
        "\n",
        "Esse algoritmo é muito interessante! Ele funciona assim, quando queremos testar um dado, nós medimos a distância dele com todos os dados, e pegamos os K dados mais próximos e verificamos a que classe, ou vinho nesse caso, eles pertencem! A predição é da classe mais comum.\n",
        "\n",
        "O valor de K não pode ser determinado sem testes, e o melhor valor depende de cada base de dados. Experimente testar vários valores de K!\n",
        "\n",
        "Uma parte essencial de qualquer classificação é dividir nossa base em **Treino** e **Teste**, e essas duas partes **NUNCA** devem se misturar.\n",
        "\n",
        "Nesse caso, chegamos a 74,07% de acurácia.\n"
      ]
    },
    {
      "cell_type": "code",
      "metadata": {
        "id": "VS1lIv2WKqqR",
        "colab_type": "code",
        "outputId": "db7a19a0-376d-4b95-ff20-c6e72f4d9bc5",
        "colab": {
          "base_uri": "https://localhost:8080/",
          "height": 34
        }
      },
      "source": [
        "from sklearn import neighbors\n",
        "from sklearn.model_selection import train_test_split\n",
        "X_train, X_test, y_train, y_test = train_test_split(X, y, test_size=0.3, random_state = 42)\n",
        "\n",
        "knn = neighbors.KNeighborsClassifier(3)\n",
        "knn.fit(X_train, y_train)\n",
        "knn.score(X_test, y_test)"
      ],
      "execution_count": 0,
      "outputs": [
        {
          "output_type": "execute_result",
          "data": {
            "text/plain": [
              "0.7407407407407407"
            ]
          },
          "metadata": {
            "tags": []
          },
          "execution_count": 32
        }
      ]
    },
    {
      "cell_type": "markdown",
      "metadata": {
        "id": "xz69cB5TwkEy",
        "colab_type": "text"
      },
      "source": [
        "## Escalonamento\n",
        "\n",
        "Trabalhar com **dados não escalonados** é um grande erro que muitos cientistas de dados cometem! Em nosso caso, existiam atributos com valores gigantes e alguns microscópicos, isso gera um problema bem grande quando trabalhamos com distâncias!\n",
        "\n",
        "Por isso, aqui escalonamos nossos dados e verificamos a correlação! Percebemos que temos um resultado bem mais legal agora! Também vemos que os gráficos normais de pontos não tem mudança no seu comportamento, só na escala mesmo!"
      ]
    },
    {
      "cell_type": "code",
      "metadata": {
        "id": "Z4LuVlsONMy9",
        "colab_type": "code",
        "outputId": "672e3bdd-c6d2-4cdc-c979-ee1a6d87e7ee",
        "colab": {
          "base_uri": "https://localhost:8080/",
          "height": 274
        }
      },
      "source": [
        "from sklearn.preprocessing import StandardScaler\n",
        "scaler = StandardScaler()\n",
        "X_escalonado = scaler.fit_transform(X)\n",
        "\n",
        "X_corr = np.cov(X_escalonado.T)\n",
        "plt.matshow(X_corr, cmap='RdBu')\n",
        "plt.colorbar()"
      ],
      "execution_count": 0,
      "outputs": [
        {
          "output_type": "execute_result",
          "data": {
            "text/plain": [
              "<matplotlib.colorbar.Colorbar at 0x7efe7c142e48>"
            ]
          },
          "metadata": {
            "tags": []
          },
          "execution_count": 34
        },
        {
          "output_type": "display_data",
          "data": {
            "image/png": "[encoded data removed]",
            "text/plain": [
              "<Figure size 288x288 with 2 Axes>"
            ]
          },
          "metadata": {
            "tags": []
          }
        }
      ]
    },
    {
      "cell_type": "code",
      "metadata": {
        "colab_type": "code",
        "outputId": "2854d73f-ac7a-40c5-f571-68aa08ef7f8f",
        "id": "K2TIHTCMOKnT",
        "colab": {
          "base_uri": "https://localhost:8080/",
          "height": 312
        }
      },
      "source": [
        "plt.scatter(X_escalonado[:, 0], X_escalonado[:, 10], c=y, cmap=\"viridis\", marker='.')\n",
        "plt.title(\"Análise de alcool e intensidade de cor\")\n",
        "plt.xlabel(\"Teor alcólico\")\n",
        "plt.ylabel(\"Intensidade de cor\")"
      ],
      "execution_count": 0,
      "outputs": [
        {
          "output_type": "execute_result",
          "data": {
            "text/plain": [
              "Text(0, 0.5, 'Intensidade de cor')"
            ]
          },
          "metadata": {
            "tags": []
          },
          "execution_count": 35
        },
        {
          "output_type": "display_data",
          "data": {
            "image/png": "[encoded data removed]",
            "text/plain": [
              "<Figure size 432x288 with 1 Axes>"
            ]
          },
          "metadata": {
            "tags": []
          }
        }
      ]
    },
    {
      "cell_type": "markdown",
      "metadata": {
        "id": "tAZe9avMxLCt",
        "colab_type": "text"
      },
      "source": [
        "Agora testando o KNN novamente, chegamos a uma acurácia **MUITO** maior! Cerca de 96%"
      ]
    },
    {
      "cell_type": "code",
      "metadata": {
        "colab_type": "code",
        "outputId": "a04cb309-2e2b-495d-d046-82c6204d2202",
        "id": "QxyzhqJ_OWuN",
        "colab": {
          "base_uri": "https://localhost:8080/",
          "height": 34
        }
      },
      "source": [
        "from sklearn import neighbors\n",
        "from sklearn.model_selection import train_test_split\n",
        "X_train, X_test, y_train, y_test = train_test_split(X_escalonado, y, test_size=0.3, random_state = 42)\n",
        "\n",
        "knn = neighbors.KNeighborsClassifier(3)\n",
        "knn.fit(X_train, y_train)\n",
        "knn.score(X_test, y_test)"
      ],
      "execution_count": 0,
      "outputs": [
        {
          "output_type": "execute_result",
          "data": {
            "text/plain": [
              "0.9629629629629629"
            ]
          },
          "metadata": {
            "tags": []
          },
          "execution_count": 37
        }
      ]
    },
    {
      "cell_type": "markdown",
      "metadata": {
        "id": "6SQ222RfxWjh",
        "colab_type": "text"
      },
      "source": [
        "## Outras métricas\n",
        "\n",
        "Além disso, existem outras métricas muito importantes!\n",
        "\n",
        "A **precisão** leva em conta o quanto acertamos, isso é, dentre todas as classificações que o modelo fez, quantas estão corretas.\n",
        "\n",
        "O **Recall** ou **Sensibilidade** leva em conta dentre todas as rotulações esperada de uma classe, quantas estão corretas.\n",
        "\n",
        "O **F-1 Score** representa uma média harmônica das duas medidas anteriores."
      ]
    },
    {
      "cell_type": "code",
      "metadata": {
        "id": "rynTFpJHD2Y3",
        "colab_type": "code",
        "outputId": "cc599c3e-7ada-49cc-a8e8-02663deec1ac",
        "colab": {
          "base_uri": "https://localhost:8080/",
          "height": 191
        }
      },
      "source": [
        "from sklearn.metrics import classification_report\n",
        "\n",
        "print(classification_report(y_test, knn.predict(X_test), target_names=['Vinho 0', 'Vinho 1', 'Vinho 2']))"
      ],
      "execution_count": 0,
      "outputs": [
        {
          "output_type": "stream",
          "text": [
            "              precision    recall  f1-score   support\n",
            "\n",
            "     Vinho 0       0.95      1.00      0.97        19\n",
            "     Vinho 1       1.00      0.90      0.95        21\n",
            "     Vinho 2       0.93      1.00      0.97        14\n",
            "\n",
            "    accuracy                           0.96        54\n",
            "   macro avg       0.96      0.97      0.96        54\n",
            "weighted avg       0.97      0.96      0.96        54\n",
            "\n"
          ],
          "name": "stdout"
        }
      ]
    }
  ]
}